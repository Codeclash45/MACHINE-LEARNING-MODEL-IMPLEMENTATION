{
 "cells": [
  {
   "cell_type": "markdown",
   "id": "24af3543",
   "metadata": {},
   "source": [
    "Import Statements"
   ]
  },
  {
   "cell_type": "code",
   "execution_count": 1,
   "id": "dc38c063",
   "metadata": {},
   "outputs": [],
   "source": [
    "import pandas as pd\n",
    "from sklearn.model_selection import train_test_split\n",
    "from sklearn.feature_extraction.text import TfidfVectorizer\n",
    "from sklearn.naive_bayes import MultinomialNB\n",
    "from sklearn.metrics import accuracy_score, precision_score, recall_score, f1_score, confusion_matrix\n",
    "import matplotlib.pyplot as plt\n",
    "import seaborn as sns"
   ]
  },
  {
   "cell_type": "markdown",
   "id": "380f2360",
   "metadata": {},
   "source": [
    "Loading Data"
   ]
  },
  {
   "cell_type": "markdown",
   "id": "14a7b27c",
   "metadata": {},
   "source": [
    "Creating a small synthetic Dataset"
   ]
  },
  {
   "cell_type": "code",
   "execution_count": 2,
   "id": "a33d4f69",
   "metadata": {},
   "outputs": [],
   "source": [
    "data = {\n",
    "    'email_text': [\n",
    "        \"Congratulations! You've won a free iPhone. Click here now!\",\n",
    "        \"Meeting reminder for tomorrow at 10 AM.\",\n",
    "        \"URGENT: Your account has been compromised. Verify your details.\",\n",
    "        \"Hi John, please review the attached document.\",\n",
    "        \"Free crypto coins! Limited time offer!\",\n",
    "        \"Project update: tasks completed and next steps.\",\n",
    "        \"Claim your prize! Enter our lottery for a chance to win.\",\n",
    "        \"Regarding the report you submitted yesterday.\",\n",
    "        \"VIAGRA, CIALIS, and more! Best prices.\",\n",
    "        \"Can we reschedule our call to next week?\",\n",
    "        \"Earn easy money from home! Work at your own pace.\",\n",
    "        \"Hello team, here are the minutes from our last meeting.\",\n",
    "        \"Unsubscribe from our mailing list here.\",\n",
    "        \"Your Amazon order has shipped.\",\n",
    "        \"Special offer: 50% off all products for a limited time!\",\n",
    "        \"Please find the budget proposal attached.\"\n",
    "    ],\n",
    "    'label': [\n",
    "        'spam', 'ham', 'spam', 'ham', 'spam', 'ham', 'spam', 'ham', 'spam', 'ham', 'spam', 'ham', 'spam', 'ham', 'spam', 'ham'\n",
    "    ]\n",
    "}"
   ]
  },
  {
   "cell_type": "code",
   "execution_count": 3,
   "id": "13ec4a20",
   "metadata": {},
   "outputs": [
    {
     "name": "stdout",
     "output_type": "stream",
     "text": [
      "Dataset Head:\n",
      "                                          email_text label\n",
      "0  Congratulations! You've won a free iPhone. Cli...  spam\n",
      "1            Meeting reminder for tomorrow at 10 AM.   ham\n",
      "2  URGENT: Your account has been compromised. Ver...  spam\n",
      "3      Hi John, please review the attached document.   ham\n",
      "4             Free crypto coins! Limited time offer!  spam\n",
      "\n",
      "Label Distribution:\n",
      "label\n",
      "spam    8\n",
      "ham     8\n",
      "Name: count, dtype: int64\n"
     ]
    }
   ],
   "source": [
    "df = pd.DataFrame(data)\n",
    "print(\"Dataset Head:\")\n",
    "print(df.head())\n",
    "print(\"\\nLabel Distribution:\")\n",
    "print(df['label'].value_counts())"
   ]
  },
  {
   "cell_type": "markdown",
   "id": "25e80ac3",
   "metadata": {},
   "source": [
    "Pre-processing Data"
   ]
  },
  {
   "cell_type": "code",
   "execution_count": 4,
   "id": "84573cf7",
   "metadata": {},
   "outputs": [
    {
     "name": "stdout",
     "output_type": "stream",
     "text": [
      "\n",
      "Training set size: 12\n",
      "Testing set size: 4\n",
      "\n",
      "Shape of X_train_tfidf: (12, 51)\n",
      "Shape of X_test_tfidf: (4, 51)\n"
     ]
    }
   ],
   "source": [
    "# Convert labels to numerical format (0 for ham, 1 for spam)\n",
    "df['label_encoded'] = df['label'].apply(lambda x: 1 if x == 'spam' else 0)\n",
    "\n",
    "# Split data into training and testing sets\n",
    "X = df['email_text']\n",
    "y = df['label_encoded']\n",
    "X_train, X_test, y_train, y_test = train_test_split(X, y, test_size=0.2, random_state=42, stratify=y)\n",
    "\n",
    "print(f\"\\nTraining set size: {len(X_train)}\")\n",
    "print(f\"Testing set size: {len(X_test)}\")\n",
    "\n",
    "# Initialize TF-IDF Vectorizer\n",
    "tfidf_vectorizer = TfidfVectorizer(stop_words='english', max_features=5000) # Limit features for simplicity\n",
    "\n",
    "# Fit and transform the training data\n",
    "X_train_tfidf = tfidf_vectorizer.fit_transform(X_train)\n",
    "\n",
    "# Transform the test data\n",
    "X_test_tfidf = tfidf_vectorizer.transform(X_test)\n",
    "\n",
    "print(f\"\\nShape of X_train_tfidf: {X_train_tfidf.shape}\")\n",
    "print(f\"Shape of X_test_tfidf: {X_test_tfidf.shape}\")"
   ]
  },
  {
   "cell_type": "markdown",
   "id": "f5c86344",
   "metadata": {},
   "source": [
    "Model Training"
   ]
  },
  {
   "cell_type": "code",
   "execution_count": 5,
   "id": "a6011bca",
   "metadata": {},
   "outputs": [
    {
     "name": "stdout",
     "output_type": "stream",
     "text": [
      "\n",
      "Model training complete.\n"
     ]
    }
   ],
   "source": [
    "# Initialize the Multinomial Naive Bayes model\n",
    "model = MultinomialNB()\n",
    "\n",
    "# Train the model\n",
    "model.fit(X_train_tfidf, y_train)\n",
    "\n",
    "print(\"\\nModel training complete.\")"
   ]
  },
  {
   "cell_type": "markdown",
   "id": "31c99e74",
   "metadata": {},
   "source": [
    "Evaluating The Model"
   ]
  },
  {
   "cell_type": "code",
   "execution_count": 6,
   "id": "8817f785",
   "metadata": {},
   "outputs": [
    {
     "name": "stdout",
     "output_type": "stream",
     "text": [
      "\n",
      "Model Evaluation:\n",
      "Accuracy: 0.5000\n",
      "Precision: 0.0000\n",
      "Recall: 0.0000\n",
      "F1-Score: 0.0000\n"
     ]
    },
    {
     "name": "stderr",
     "output_type": "stream",
     "text": [
      "c:\\Users\\SOUVIK DUTTA\\AppData\\Local\\Programs\\Python\\Python313\\Lib\\site-packages\\sklearn\\metrics\\_classification.py:1731: UndefinedMetricWarning: Precision is ill-defined and being set to 0.0 due to no predicted samples. Use `zero_division` parameter to control this behavior.\n",
      "  _warn_prf(average, modifier, f\"{metric.capitalize()} is\", result.shape[0])\n"
     ]
    },
    {
     "data": {
      "image/png": "[encoded data removed]",
      "text/plain": [
       "<Figure size 600x400 with 2 Axes>"
      ]
     },
     "metadata": {},
     "output_type": "display_data"
    },
    {
     "name": "stdout",
     "output_type": "stream",
     "text": [
      "\n",
      "Classification Report:\n",
      "              precision    recall  f1-score   support\n",
      "\n",
      "         Ham       0.50      1.00      0.67         2\n",
      "        Spam       0.00      0.00      0.00         2\n",
      "\n",
      "    accuracy                           0.50         4\n",
      "   macro avg       0.25      0.50      0.33         4\n",
      "weighted avg       0.25      0.50      0.33         4\n",
      "\n"
     ]
    },
    {
     "name": "stderr",
     "output_type": "stream",
     "text": [
      "c:\\Users\\SOUVIK DUTTA\\AppData\\Local\\Programs\\Python\\Python313\\Lib\\site-packages\\sklearn\\metrics\\_classification.py:1731: UndefinedMetricWarning: Precision is ill-defined and being set to 0.0 in labels with no predicted samples. Use `zero_division` parameter to control this behavior.\n",
      "  _warn_prf(average, modifier, f\"{metric.capitalize()} is\", result.shape[0])\n",
      "c:\\Users\\SOUVIK DUTTA\\AppData\\Local\\Programs\\Python\\Python313\\Lib\\site-packages\\sklearn\\metrics\\_classification.py:1731: UndefinedMetricWarning: Precision is ill-defined and being set to 0.0 in labels with no predicted samples. Use `zero_division` parameter to control this behavior.\n",
      "  _warn_prf(average, modifier, f\"{metric.capitalize()} is\", result.shape[0])\n",
      "c:\\Users\\SOUVIK DUTTA\\AppData\\Local\\Programs\\Python\\Python313\\Lib\\site-packages\\sklearn\\metrics\\_classification.py:1731: UndefinedMetricWarning: Precision is ill-defined and being set to 0.0 in labels with no predicted samples. Use `zero_division` parameter to control this behavior.\n",
      "  _warn_prf(average, modifier, f\"{metric.capitalize()} is\", result.shape[0])\n"
     ]
    }
   ],
   "source": [
    "# Make predictions on the test set\n",
    "y_pred = model.predict(X_test_tfidf)\n",
    "\n",
    "# Calculate evaluation metrics\n",
    "accuracy = accuracy_score(y_test, y_pred)\n",
    "precision = precision_score(y_test, y_pred)\n",
    "recall = recall_score(y_test, y_pred)\n",
    "f1 = f1_score(y_test, y_pred)\n",
    "\n",
    "print(f\"\\nModel Evaluation:\")\n",
    "print(f\"Accuracy: {accuracy:.4f}\")\n",
    "print(f\"Precision: {precision:.4f}\")\n",
    "print(f\"Recall: {recall:.4f}\")\n",
    "print(f\"F1-Score: {f1:.4f}\")\n",
    "\n",
    "# Confusion Matrix\n",
    "cm = confusion_matrix(y_test, y_pred)\n",
    "plt.figure(figsize=(6, 4))\n",
    "sns.heatmap(cm, annot=True, fmt='d', cmap='Blues', xticklabels=['Ham', 'Spam'], yticklabels=['Ham', 'Spam'])\n",
    "plt.xlabel('Predicted Label')\n",
    "plt.ylabel('True Label')\n",
    "plt.title('Confusion Matrix')\n",
    "plt.show()\n",
    "\n",
    "# Classification Report (more detailed view)\n",
    "from sklearn.metrics import classification_report\n",
    "print(\"\\nClassification Report:\")\n",
    "print(classification_report(y_test, y_pred, target_names=['Ham', 'Spam']))"
   ]
  },
  {
   "cell_type": "markdown",
   "id": "c4091d05",
   "metadata": {},
   "source": [
    "Making Predictions on New Data"
   ]
  },
  {
   "cell_type": "code",
   "execution_count": 7,
   "id": "ab841f7c",
   "metadata": {},
   "outputs": [
    {
     "name": "stdout",
     "output_type": "stream",
     "text": [
      "\n",
      "Predictions on new emails:\n",
      "Email: 'Hello team, the Q3 report is ready for review.'\n",
      "Prediction: ham\n",
      "\n",
      "Email: 'WIN A FREE VACATION NOW! Click the link.'\n",
      "Prediction: spam\n",
      "\n",
      "Email: 'Your parcel has been delivered. Track here.'\n",
      "Prediction: ham\n",
      "\n",
      "Email: 'Attention: Important security update for your bank account.'\n",
      "Prediction: ham\n",
      "\n",
      "Email: 'Congratulations! You've been selected for a special offer.'\n",
      "Prediction: spam\n",
      "\n"
     ]
    }
   ],
   "source": [
    "def predict_spam(email_text):\n",
    "    # Transform the new email text using the trained TF-IDF vectorizer\n",
    "    email_tfidf = tfidf_vectorizer.transform([email_text])\n",
    "    # Make prediction\n",
    "    prediction = model.predict(email_tfidf)\n",
    "    # Return 'spam' or 'ham'\n",
    "    return \"spam\" if prediction[0] == 1 else \"ham\"\n",
    "\n",
    "# Test cases\n",
    "new_emails = [\n",
    "    \"Hello team, the Q3 report is ready for review.\",\n",
    "    \"WIN A FREE VACATION NOW! Click the link.\",\n",
    "    \"Your parcel has been delivered. Track here.\",\n",
    "    \"Attention: Important security update for your bank account.\",\n",
    "    \"Congratulations! You've been selected for a special offer.\"\n",
    "]\n",
    "\n",
    "print(\"\\nPredictions on new emails:\")\n",
    "for email in new_emails:\n",
    "    prediction = predict_spam(email)\n",
    "    print(f\"Email: '{email}'\\nPrediction: {prediction}\\n\")"
   ]
  }
 ],
 "metadata": {
  "kernelspec": {
   "display_name": "Python 3",
   "language": "python",
   "name": "python3"
  },
  "language_info": {
   "codemirror_mode": {
    "name": "ipython",
    "version": 3
   },
   "file_extension": ".py",
   "mimetype": "text/x-python",
   "name": "python",
   "nbconvert_exporter": "python",
   "pygments_lexer": "ipython3",
   "version": "3.13.1"
  }
 },
 "nbformat": 4,
 "nbformat_minor": 5
}
